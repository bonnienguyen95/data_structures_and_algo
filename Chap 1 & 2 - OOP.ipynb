{
 "cells": [
  {
   "cell_type": "code",
   "execution_count": null,
   "metadata": {},
   "outputs": [],
   "source": [
    "# Objects - main actors in the object-oriented paradigm \n",
    "# Each object is an instance of a class\n",
    "# A class presents to the outside world a CONCISE & CONSISTENT view of the objects that are instances of that class\n",
    "#without going into too much details of the inner working of objects\n",
    "\n",
    "# In a class, we have:\n",
    "    # 1. instance variables - data members that the object contains\n",
    "    # 2. methods - member functions that the object can execute"
   ]
  },
  {
   "cell_type": "code",
   "execution_count": null,
   "metadata": {},
   "outputs": [],
   "source": [
    "# OOP Goals\n",
    "    # 1. Robustness \n",
    "    -Enable software to be capable of handling unexpected inputs that are not explicitly defined for its application\n",
    "    # 2. Adaptability\n",
    "    -Ability to evolve over time in response to changing condition in its environment\n",
    "    # 3. Reusability\n",
    "    -Same code should be usable as a component of different systems in various applications"
   ]
  },
  {
   "cell_type": "code",
   "execution_count": null,
   "metadata": {},
   "outputs": [],
   "source": [
    "# OOP Principles\n",
    "    # 1. Modularity\n",
    "    -An organizing principle in which different components of a software system are divided into separate functional units\n",
    "    -Enable clarity of thought that provides a natural way to organize functions into manageable units\n",
    "    -Support robustness and reusability\n",
    "    # 2. Abstraction\n",
    "    -Distill a complicated system down to its most fundamental parts\n",
    "    -Abstract Data Types (ADTs) - mathematical model of a data structure, specifies:\n",
    "        + type of data stored on them\n",
    "        + operations supported on this data\n",
    "        + types of parameters of the operations\n",
    "        + Note: an ADT specifies WHAT each operation does but not HOW it is done --> why it is called abstraction\n",
    "    -Collective sets of behaviors supported by an ADT are referred to as its #public interface\n",
    "    # 3. Encapsulation \n",
    "    -Different components of a software system should not reveal internal details of their implementations.\n",
    "    -Support robustness and adaptability"
   ]
  },
  {
   "cell_type": "code",
   "execution_count": null,
   "metadata": {},
   "outputs": [],
   "source": [
    "# Coding Style\n",
    "    # 1. Classes - should be a singular noun and capitalized (eg. Date rather than date or Dates)\n",
    "    # 2. Functions - should be a verb describing the action and lowercase. \n",
    "    If multiple words are combined, should be separated by underscores (eg. make_payment)\n",
    "    # 3. Objects (instance variables, local varibles, parameters) - should be a lowercase noun\n",
    "    # 4. Identifiers representing a constant - should be all capital letters and with underscores to separate words \n",
    "    (eg. LATE_FEE)\n",
    "    \n",
    "# Documentation\n",
    "    # Docstring: \"\"\" Insert documentation here\"\"\"\n",
    "    \n",
    "# the self Identifier\n",
    "-identifies the instance upon which a method is invoked"
   ]
  },
  {
   "cell_type": "code",
   "execution_count": 3,
   "metadata": {},
   "outputs": [],
   "source": [
    "# Example implementation of the CreditCard class\n",
    "\n",
    "class CreditCard:\n",
    "    \"\"\"A consumer credit card.\"\"\"\n",
    "    def __init__(self, customer, bank, acnt, limit):\n",
    "        \"\"\" Create a new credit card instance.\n",
    "        \n",
    "        The initial balance is zero.\n",
    "        \n",
    "        customer   name of the customer (e.g., 'Huong Nguyen')\n",
    "        bank       name of bank (e.g., 'Chase Bank')\n",
    "        acnt       account identifier/number (e.g., \"5391 0375 9387 5309\")\n",
    "        limit      credit limint (measured in dollors)\n",
    "        \"\"\"\n",
    "        \n",
    "        self._customer = customer\n",
    "        self._bank = bank\n",
    "        self._acnt = acnt\n",
    "        self._limit = limit\n",
    "        self._balance = 0\n",
    "    \n",
    "    def get_customer(self):\n",
    "        \"\"\"Return name of the customer.\"\"\"\n",
    "        return self._customer\n",
    "    \n",
    "    def get_bank(self):\n",
    "        \"\"\"Return bank's name.\"\"\"\n",
    "        return self._bank\n",
    "    \n",
    "    def get_acnt(self):\n",
    "        \"\"\"Return account identifier (typically stored as a string).\"\"\"\n",
    "        return self._acnt\n",
    "    \n",
    "    def get_limit(self):\n",
    "        \"\"\"Return current credit limit.\"\"\"\n",
    "        return self._limit\n",
    "    \n",
    "    def get_balance(self):\n",
    "        \"\"\"Return current account balance.\"\"\"\n",
    "        return self._balance\n",
    "    \n",
    "    def charge(self, price):\n",
    "        \"\"\"Charge given price to the card, assuming sufficient credit limit.\n",
    "        \n",
    "        Return True if charged was processed; False if charged was denied.\n",
    "        \"\"\"\n",
    "        \n",
    "        if price + self._balance > self._limit:      # if charge would exceed limit,\n",
    "            return False                             # cannot approve charge\n",
    "        else:\n",
    "            self._balance += price                   # add charge to current balance\n",
    "            return True                              # charge approved\n",
    "    \n",
    "    def make_payment(self, amount):\n",
    "        \"\"\"Process customer payment that reduces current balance.\"\"\"\n",
    "        self._balance -= amount\n"
   ]
  },
  {
   "cell_type": "code",
   "execution_count": null,
   "metadata": {},
   "outputs": [],
   "source": [
    "# Observations of implementation\n",
    "    # 1. The way a method is declared within a class and the way the method is called are different\n",
    "    #e.g., \n",
    "        declare get balance method - def get_balance(self)\n",
    "        obtain account balance of a specific instance of a class - self.get_balance()\n",
    "\n",
    "# Operator Overloading\n",
    "# Non-Operator Overloading - Specially named methods for class\n",
    "e.g., To determine the length of a container, a normal top-level function would be: len(foo).\n",
    "      However, in a class context, we have __len__ method, so: foo.__len__() will return length of foo in this case."
   ]
  },
  {
   "cell_type": "code",
   "execution_count": null,
   "metadata": {},
   "outputs": [],
   "source": [
    "# Inheritance - a technique for modular and hierarchical organization\n",
    "    - Allows a new class to be defined based on an existing class (typically described as a base class, parent class, superclass)\n",
    "    - The new class is called child class or sub class\n",
    "    - Two ways a sub class differentiates from a super class:\n",
    "        1. A sub class may extend its super class by having brand new methods.\n",
    "        2. A sub class may specialize an existing behavior by providing a new implementation of an existing method."
   ]
  },
  {
   "cell_type": "code",
   "execution_count": null,
   "metadata": {},
   "outputs": [],
   "source": [
    " # Extending the CreditCard class - Inheritance Demonstration (Specialization and Extension)\n",
    "    # 1. To charge a fee for an invalid charge attempt, we override the existing charge method\n",
    "    --> specialize it to provide new functionality \n",
    "    # 2. To extend the class with a new method to calculate interest based on months and introduce APR to the class parameter"
   ]
  },
  {
   "cell_type": "code",
   "execution_count": 4,
   "metadata": {},
   "outputs": [],
   "source": [
    "class PredatoryCreditCard(CreditCard):\n",
    "    \"\"\"An extension of CreditCard class that compounds interest and fees.\"\"\"\n",
    "    \n",
    "    def __init__(self, customer, bank, acnt, limit, apr):\n",
    "        \"\"\"Create a new predatory credit card instance.\n",
    "        \n",
    "        The initial balance is zero. \n",
    "        \n",
    "        customer    the name of the customer (e.g., John Bowman )\n",
    "        bank        the name of the bank (e.g., California Savings )\n",
    "        acnt        the acount identifier (e.g., 5391 0375 9387 5309 )\n",
    "        limit       credit limit (measured in dollars)\n",
    "        apr         annual percentage rate (e.g., 0.0825 for 8.25% APR)\n",
    "        \"\"\"\n",
    "        super().__init__(self, customer, bank, acnt, limit)     # call super constructor\n",
    "        self._apr = apr                                         # extending the base class with new parameter\n",
    "        \n",
    "    def charge(self, price):\n",
    "        \"\"\"Charge given price to the card, assuming sufficient credit limit.\n",
    "        \n",
    "        Return True if charge was processed.\n",
    "        Return False and assess $5 fee if charge is denied.\n",
    "        \"\"\"\n",
    "        \n",
    "        success = super().charge(price)                         # call inherited method\n",
    "        if not success:\n",
    "            self._balance += 5                                  # assess penalty\n",
    "        return success \n",
    "    \n",
    "    def process_month(self):\n",
    "        \"\"\"Assess monthly interest based on outstanding balance.\"\"\"\n",
    "        \n",
    "        if self._balance > 0: \n",
    "            # if balance is positive, convert APR to monthly multiplicative factor\n",
    "            monthly_factor = pow(1 + self._apr, 1/12)\n",
    "            self._balance *= monthly_factor"
   ]
  },
  {
   "cell_type": "code",
   "execution_count": null,
   "metadata": {},
   "outputs": [],
   "source": [
    "# Observation of the above implementation\n",
    "    # 1. the underscore name (_balance, _customer, etc) suggests that this is a non-public member (protected but not private)"
   ]
  }
 ],
 "metadata": {
  "kernelspec": {
   "display_name": "Python 3",
   "language": "python",
   "name": "python3"
  },
  "language_info": {
   "codemirror_mode": {
    "name": "ipython",
    "version": 3
   },
   "file_extension": ".py",
   "mimetype": "text/x-python",
   "name": "python",
   "nbconvert_exporter": "python",
   "pygments_lexer": "ipython3",
   "version": "3.7.3"
  }
 },
 "nbformat": 4,
 "nbformat_minor": 2
}

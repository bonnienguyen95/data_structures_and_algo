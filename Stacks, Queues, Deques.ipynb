{
 "cells": [
  {
   "cell_type": "markdown",
   "metadata": {},
   "source": [
    "## 1. Stacks\n",
    "### Stack follows Last In First Out (LIFO) principle\n",
    "\n",
    "Examples of stack:\n",
    "1. Undo button in MS Word application\n",
    "2. Back button in a web browser to go back to your most recently visisted site\n",
    "\n",
    "### Stack instance S supports 2 following methods:\n",
    "1. S.push(e): Add element e to the top of stack S.\n",
    "2. S.pop(): Remove and return the top element from stack S; an error will occur if stack is empty\n",
    "\n",
    "### Additional self-defined methods are:\n",
    "1. S.top(): Return a reference to the top element without removing it; an error will occur if stack is empty\n",
    "2. S.is_empty(): Return true if a stack S is empty\n",
    "3. len(S): return the number of elements in stack S; we implement this with special method __len__\n",
    "\n",
    "### Notes:\n",
    "- Elements added to the stack can have arbitrary types\n",
    "- Newly created stack is empty\n",
    "\n",
    "### Stack implementation using list:\n"
   ]
  },
  {
   "cell_type": "code",
   "execution_count": 2,
   "metadata": {},
   "outputs": [],
   "source": [
    "# Simple array-based stack implementation\n",
    "\n",
    "class Empty(Exception):\n",
    "    pass\n",
    "\n",
    "class ArrayStack:\n",
    "    \n",
    "    def __init__(self):\n",
    "        \"\"\" Create an empty stack.\"\"\"\n",
    "        self._data = []                    # nonpublic stack instance\n",
    "        \n",
    "    def __len__(self):                     # method to get size of stack\n",
    "        return len(self._data)\n",
    "    \n",
    "    def is_empty(self):                    # method to check if stack is empty, return True if stack is empty\n",
    "        return len(self._data) == 0\n",
    "    \n",
    "    def push(self, e):                     # method to add an element to the top of stack\n",
    "        self._data.append(e)\n",
    "        \n",
    "    def pop(self):                         # method to remove and return element at the top of stack\n",
    "        if self._data is empty:\n",
    "            raise Empty('Stack is empty.')\n",
    "        return self._data.pop()\n",
    "    \n",
    "    def top(self):                         # method to return the top element of stack but do not remove it\n",
    "        if self._data is empty:\n",
    "            raise Empty('Stack is empty.')\n",
    "        return self._data[-1]"
   ]
  },
  {
   "cell_type": "markdown",
   "metadata": {},
   "source": [
    "### Reversing data using stack:"
   ]
  },
  {
   "cell_type": "code",
   "execution_count": 1,
   "metadata": {},
   "outputs": [],
   "source": [
    "# Reversing data using stack\n",
    "\n",
    "def reverse_file(filename):\n",
    "    S = ArrayStack()\n",
    "    original = open(filename)\n",
    "    for line in original:\n",
    "        S.push(line.rstrip('\\n'))\n",
    "    original.close()\n",
    "    \n",
    "    reversed_output = open(filename, 'w')\n",
    "    while not S.is_empty():\n",
    "        reversed_output.write(S.pop() + '\\n')\n",
    "    reversed_output.close()\n",
    "    "
   ]
  },
  {
   "cell_type": "markdown",
   "metadata": {},
   "source": [
    "### Matching parentheses:"
   ]
  },
  {
   "cell_type": "code",
   "execution_count": null,
   "metadata": {},
   "outputs": [],
   "source": []
  }
 ],
 "metadata": {
  "kernelspec": {
   "display_name": "Python 3",
   "language": "python",
   "name": "python3"
  },
  "language_info": {
   "codemirror_mode": {
    "name": "ipython",
    "version": 3
   },
   "file_extension": ".py",
   "mimetype": "text/x-python",
   "name": "python",
   "nbconvert_exporter": "python",
   "pygments_lexer": "ipython3",
   "version": "3.7.3"
  }
 },
 "nbformat": 4,
 "nbformat_minor": 2
}

{
 "cells": [
  {
   "cell_type": "code",
   "execution_count": 1,
   "metadata": {},
   "outputs": [],
   "source": [
    "# Recursion is an alternative way to achieve repetition instead of for-loop and while-loop\n",
    "\n",
    "# Physical example of recursion: Russian dolls\n",
    "\n",
    "# Four illustrative implementations of recursion are:\n",
    "    # 1. Factorial function (n!)\n",
    "    # 2. Binary search\n",
    "    # 3. File system"
   ]
  },
  {
   "cell_type": "code",
   "execution_count": 3,
   "metadata": {},
   "outputs": [
    {
     "name": "stdout",
     "output_type": "stream",
     "text": [
      "120\n"
     ]
    }
   ],
   "source": [
    "# 1. Factorial function\n",
    "def factorial(n):\n",
    "    if n == 0:\n",
    "        return 1\n",
    "    else:\n",
    "        return n*factorial(n-1)\n",
    "\n",
    "print(factorial(5))\n",
    "\n",
    "# When the execution of a function leads to a nested function call, the execution of the former function call is suspended.\n",
    "# Its activation record stores the place in the source code at which the flow of control should continue \n",
    "# upon return of the nested call."
   ]
  },
  {
   "cell_type": "code",
   "execution_count": 7,
   "metadata": {},
   "outputs": [],
   "source": [
    "# 2. Binary search - Locate a target value in a sorted sequence of n elements\n",
    "def binary_search(data, target, low, high):\n",
    "    if low > high:\n",
    "        return False\n",
    "    else:\n",
    "        mid = (low + high) // 2\n",
    "        if target == data[mid]:\n",
    "            return mid\n",
    "        elif target < data[mid]:\n",
    "            return binary_search(data, target, low, mid - 1)\n",
    "        else:\n",
    "            return binary_search(data, target, mid + 1, high)\n",
    "    \n",
    "# Running time of binary search is O(log n)"
   ]
  },
  {
   "cell_type": "code",
   "execution_count": 8,
   "metadata": {},
   "outputs": [],
   "source": [
    "# 3. Computing total disk usage of all files and directories nested under a certain directory\n",
    "# Python os module:\n",
    "    # 1. os.path.getsize(path) - return immediate disk usage for the file or directory that is identified by the string path\n",
    "    # 2. os.path.isdir(path) - return true if string path is a directory, false otherwise\n",
    "    # 3. os.listdir(path) - return a list of strings that are the names of files / directories within a directory specified by path\n",
    "    # 4. os.path.join(path, filename) - compose the path string and filename using appropriate operating system separator between\n",
    "        # the two (e.g., the \\ character in Windows)\n",
    "\n",
    "import os\n",
    "\n",
    "def disk_usage(path):\n",
    "    \"\"\" Return number of bytes used by a file/folder and any of its descendents.\"\"\"\n",
    "    total = os.path.getsize(path)\n",
    "    if os.path.isdir(path):\n",
    "        for filename in os.listdir(path):\n",
    "            childpath = os.path.join(path, filename)\n",
    "            total += disk_usage(childpath)\n",
    "    return total"
   ]
  }
 ],
 "metadata": {
  "kernelspec": {
   "display_name": "Python 3",
   "language": "python",
   "name": "python3"
  },
  "language_info": {
   "codemirror_mode": {
    "name": "ipython",
    "version": 3
   },
   "file_extension": ".py",
   "mimetype": "text/x-python",
   "name": "python",
   "nbconvert_exporter": "python",
   "pygments_lexer": "ipython3",
   "version": "3.7.3"
  }
 },
 "nbformat": 4,
 "nbformat_minor": 2
}

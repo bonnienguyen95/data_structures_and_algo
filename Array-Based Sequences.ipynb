{
 "cells": [
  {
   "cell_type": "code",
   "execution_count": 1,
   "metadata": {},
   "outputs": [],
   "source": [
    "# Array class: \n",
    "    # my_array = array(typecode, [elem1, elem2, elem3, etc., ])"
   ]
  },
  {
   "cell_type": "code",
   "execution_count": 4,
   "metadata": {},
   "outputs": [
    {
     "name": "stdout",
     "output_type": "stream",
     "text": [
      "array('i', [2, 3, 5, 7, 11, 13, 17, 19])\n"
     ]
    }
   ],
   "source": [
    "# Example:\n",
    "from array import array\n",
    "primes = array('i', [2, 3, 5, 7, 11, 13, 17, 19])\n",
    "print(primes)"
   ]
  },
  {
   "cell_type": "code",
   "execution_count": 5,
   "metadata": {},
   "outputs": [],
   "source": [
    "# Typecode list:\n",
    "    # 'b' = signed char\n",
    "    # 'B' = unsigned char\n",
    "    # 'i' = signed int\n",
    "    # 'I' = unsigned int\n",
    "    # 'f', 'd' = float"
   ]
  },
  {
   "cell_type": "code",
   "execution_count": 6,
   "metadata": {},
   "outputs": [],
   "source": [
    "# Applications of Array-Based Sequences"
   ]
  },
  {
   "cell_type": "code",
   "execution_count": 7,
   "metadata": {},
   "outputs": [],
   "source": [
    "# 1. Storing high scores for a game \n",
    "class GameEntry:\n",
    "    \"\"\" Represents one entry of a list of high scores.\"\"\"\n",
    "    \n",
    "    def __init__(self, name, score):\n",
    "        self._name = name\n",
    "        self._score = score\n",
    "    \n",
    "    def get_name(self):\n",
    "        return self._name\n",
    "    \n",
    "    def get_score(self):\n",
    "        return self._score\n",
    "    \n",
    "    def __str__(self):\n",
    "        return '({0}, {1})'.format(self._name, self._score)  # eg., '(Bob, 98)'\n",
    "    \n",
    "\n",
    "class Scoreboard:\n",
    "    \"\"\"Fixed-length sequence of high scores in nondecreasing order.\"\"\"\n",
    "    \n",
    "    def __init__(self, capacity = 10):\n",
    "        \"\"\"Initialize scoreboard with predetermined maximum capacity.\n",
    "        \n",
    "        All entries are initialized to None.\n",
    "        \"\"\"\n",
    "        self._board = [None] * capacity         # Reserve space for future scores\n",
    "        self._n = 0                             # Number of actual entries \n",
    "    \n",
    "    def get_item(self, k):\n",
    "        \"\"\"Return entry at index k.\"\"\"\n",
    "        return self._board[k]\n",
    "    \n",
    "    def __str__(self):\n",
    "        \"\"\"Return string representation of all high scores in the board.\"\"\"\n",
    "        return '\\n'.join(str(self._board[j]) for j in range(self._n))\n",
    "    \n",
    "    def add(self, entry):\n",
    "        \"\"\"Consider adding an entry to the high score board.\"\"\"\n",
    "        score = entry.get_score()\n",
    "            \n",
    "        # Does new entry qualify to be in the scoreboard?\n",
    "        # answer is yes if board is not full or score is higher than the last entry\n",
    "        \n",
    "        good = self._n < len(self._board) or score > self._board[-1].get_score()\n",
    "        \n",
    "        if good:\n",
    "            if self._n < len(self._board):       # no score dropped from list\n",
    "                self._n += 1                    # number of actual entries increased by 1\n",
    "                \n",
    "            j = self._n - 1                     # index last GameEntry will reside after operation is complete\n",
    "            \n",
    "            while j > 0 and self._board[j-1].get_score() < score:     # checking whether previous list is not empty and\n",
    "                                                                            # whether previous last elem is lower then new elem\n",
    "                self._board[j-1] = self._board[j]                     # shift old last entry from j-1 to j\n",
    "                j -= 1     \n",
    "            self._board[j] = entry                                    # add new entry\n",
    "                                                                                                       "
   ]
  },
  {
   "cell_type": "code",
   "execution_count": 29,
   "metadata": {},
   "outputs": [
    {
     "name": "stdout",
     "output_type": "stream",
     "text": [
      "[-6, 2, 5, 6, 7, 9]\n"
     ]
    }
   ],
   "source": [
    "# 2. Sorting a sequence - Runtime O(n^2)\n",
    "def insertion_sort(list_a):\n",
    "    \"\"\"Sort list of comparable elements into nondecreasing order.\"\"\"\n",
    "    index_length = range(1, len(list_a))\n",
    "    for i in index_length:\n",
    "        value_to_sort = list_a[i]\n",
    "        \n",
    "        while list_a[i-1] > list_a[i] and i > 0:\n",
    "            list_a[i], list_a[i-1] = list_a[i-1], list_a[i]  # swap elements\n",
    "            i -= 1\n",
    "    return list_a\n",
    "\n",
    "A = [7, 5, 2, 9, -6, 6]\n",
    "insertion_sort(A)\n",
    "print(A)"
   ]
  },
  {
   "cell_type": "code",
   "execution_count": 31,
   "metadata": {
    "scrolled": true
   },
   "outputs": [
    {
     "data": {
      "text/plain": [
       "'r - number of rows\\n   sublist_length - number of columns'"
      ]
     },
     "execution_count": 31,
     "metadata": {},
     "output_type": "execute_result"
    }
   ],
   "source": [
    "# Multidimensional Data Sets\n",
    "# data_set = [[0] * column_length for i in range(r)]       # list comprehension to produce a list of lists\n",
    "\"\"\"r - number of rows\n",
    "   sublist_length - number of columns\"\"\"\n",
    "\n",
    "# Applications of multidimensional datasets are positional games such as Tic-tac-toe"
   ]
  }
 ],
 "metadata": {
  "kernelspec": {
   "display_name": "Python 3",
   "language": "python",
   "name": "python3"
  },
  "language_info": {
   "codemirror_mode": {
    "name": "ipython",
    "version": 3
   },
   "file_extension": ".py",
   "mimetype": "text/x-python",
   "name": "python",
   "nbconvert_exporter": "python",
   "pygments_lexer": "ipython3",
   "version": "3.7.3"
  }
 },
 "nbformat": 4,
 "nbformat_minor": 2
}
